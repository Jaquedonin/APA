{
 "cells": [
  {
   "cell_type": "code",
   "execution_count": 46,
   "metadata": {},
   "outputs": [],
   "source": [
    "#extraindo variáveis da instância de teste\n",
    "\n",
    "f = open('P-n16-k8.txt', 'r')\n",
    "file = f.readlines()\n",
    "\n",
    "dimension = int(file[1].replace('DIMENSION: ',''))\n",
    "vehicles = int(file[2].replace('VEHICLES: ',''))\n",
    "capacity = int(file[3].replace('CAPACITY: ',''))\n",
    "\n",
    "client = []\n",
    "matrix = []\n",
    "\n",
    "for i in range(5,5+dimension):\n",
    "    client.append(int(file[i].split()[1]))\n",
    "    \n",
    "for i in range(dimension):\n",
    "    matrix.append([])\n",
    "    for j in range(dimension):\n",
    "        matrix[i].append(int(file[7+dimension+i].split()[j]))\n",
    "        \n",
    "file.clear()\n",
    "f.close()"
   ]
  },
  {
   "cell_type": "code",
   "execution_count": 55,
   "metadata": {},
   "outputs": [],
   "source": [
    "#implementação da heurística do vizinho mais próximo\n",
    "import numpy as np\n",
    "\n",
    "visited = [False]*dimension\n",
    "garage = vehicles\n",
    "route = []\n",
    "solution = []\n",
    "\n",
    "visited[0] = True\n",
    "\n",
    "def MinCargo():\n",
    "    mincargo = max(client)\n",
    "    for i in range(1,dimension):\n",
    "        if not visited[i]:\n",
    "            if client[i] < mincargo:\n",
    "                mincargo = client[i]\n",
    "    return mincargo\n",
    "\n",
    "def Deliver(i,cargo):\n",
    "    minimal = max(matrix[i])\n",
    "    minindex = np.argmax(matrix[i])\n",
    "    for j in range(dimension):\n",
    "        if i != j:\n",
    "            if not visited[j]:\n",
    "                if cargo >= client[j]:\n",
    "                    if matrix[i][j] < minimal:\n",
    "                        minimal = matrix[i][j]\n",
    "                        minindex = j\n",
    "    route.append(minindex)\n",
    "    visited[minindex] = True\n",
    "    cargo = cargo - client[minindex]\n",
    "    if not all(visited):\n",
    "        if MinCargo() <= cargo:\n",
    "            Deliver(minindex,cargo)\n",
    "\n",
    "while garage > 0:\n",
    "    route.append(0)\n",
    "    Deliver(0,capacity)\n",
    "    route.append(0)\n",
    "    solution.append(route)\n",
    "    route.clear()\n",
    "    garage = garage - 1"
   ]
  },
  {
   "cell_type": "code",
   "execution_count": null,
   "metadata": {},
   "outputs": [],
   "source": []
  },
  {
   "cell_type": "code",
   "execution_count": null,
   "metadata": {},
   "outputs": [],
   "source": []
  }
 ],
 "metadata": {
  "kernelspec": {
   "display_name": "Python 3",
   "language": "python",
   "name": "python3"
  },
  "language_info": {
   "codemirror_mode": {
    "name": "ipython",
    "version": 3
   },
   "file_extension": ".py",
   "mimetype": "text/x-python",
   "name": "python",
   "nbconvert_exporter": "python",
   "pygments_lexer": "ipython3",
   "version": "3.7.4"
  }
 },
 "nbformat": 4,
 "nbformat_minor": 2
}

